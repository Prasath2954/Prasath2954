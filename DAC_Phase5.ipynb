{
 "cells": [
  {
   "cell_type": "code",
   "execution_count": 1,
   "id": "1591f3cf",
   "metadata": {},
   "outputs": [],
   "source": [
    "import pandas as pd"
   ]
  },
  {
   "cell_type": "code",
   "execution_count": 2,
   "id": "0a8603c9",
   "metadata": {},
   "outputs": [
    {
     "name": "stderr",
     "output_type": "stream",
     "text": [
      "C:\\Users\\rocke\\AppData\\Local\\Temp\\ipykernel_22884\\3984644045.py:1: DtypeWarning: Columns (1) have mixed types. Specify dtype option on import or set low_memory=False.\n",
      "  data = pd.read_csv(\"dataset.csv\")\n"
     ]
    },
    {
     "name": "stdout",
     "output_type": "stream",
     "text": [
      "<class 'pandas.core.frame.DataFrame'>\n",
      "RangeIndex: 1048575 entries, 0 to 1048574\n",
      "Data columns (total 6 columns):\n",
      " #   Column             Non-Null Count    Dtype \n",
      "---  ------             --------------    ----- \n",
      " 0   TripID             1048575 non-null  int64 \n",
      " 1   RouteID            1048575 non-null  object\n",
      " 2   StopID             1048575 non-null  int64 \n",
      " 3   StopName           1048575 non-null  object\n",
      " 4   WeekBeginning      1048575 non-null  object\n",
      " 5   NumberOfBoardings  1048575 non-null  int64 \n",
      "dtypes: int64(3), object(3)\n",
      "memory usage: 48.0+ MB\n",
      "None\n"
     ]
    }
   ],
   "source": [
    "data = pd.read_csv(\"dataset.csv\")\n",
    "print(data.info())\n"
   ]
  },
  {
   "cell_type": "code",
   "execution_count": 3,
   "id": "c80c58cd",
   "metadata": {},
   "outputs": [
    {
     "name": "stdout",
     "output_type": "stream",
     "text": [
      "             TripID        StopID  NumberOfBoardings\n",
      "count  1.048575e+06  1.048575e+06       1.048575e+06\n",
      "mean   2.860299e+04  1.330114e+04       4.132290e+00\n",
      "std    1.674656e+04  1.119243e+03       6.291338e+00\n",
      "min    3.017000e+03  1.081700e+04       1.000000e+00\n",
      "25%    1.162200e+04  1.269800e+04       1.000000e+00\n",
      "50%    3.423400e+04  1.333500e+04       2.000000e+00\n",
      "75%    4.512600e+04  1.371600e+04       4.000000e+00\n",
      "max    6.258500e+04  1.849300e+04       1.930000e+02\n"
     ]
    }
   ],
   "source": [
    "print(data.describe())"
   ]
  },
  {
   "cell_type": "code",
   "execution_count": 4,
   "id": "caf042f1",
   "metadata": {},
   "outputs": [
    {
     "name": "stdout",
     "output_type": "stream",
     "text": [
      "Column headings:\n",
      "Index(['TripID', 'RouteID', 'StopID', 'StopName', 'WeekBeginning',\n",
      "       'NumberOfBoardings'],\n",
      "      dtype='object')\n"
     ]
    }
   ],
   "source": [
    "data.drop_duplicates(inplace=True)\n",
    "print(\"Column headings:\")\n",
    "print(data.columns)"
   ]
  },
  {
   "cell_type": "code",
   "execution_count": 5,
   "id": "edf351b8",
   "metadata": {},
   "outputs": [
    {
     "name": "stdout",
     "output_type": "stream",
     "text": [
      "TripID                int64\n",
      "RouteID              object\n",
      "StopID                int64\n",
      "StopName             object\n",
      "WeekBeginning        object\n",
      "NumberOfBoardings     int64\n",
      "dtype: object\n"
     ]
    }
   ],
   "source": [
    "print(data.dtypes)"
   ]
  },
  {
   "cell_type": "code",
   "execution_count": 6,
   "id": "eb36fc92",
   "metadata": {},
   "outputs": [
    {
     "name": "stdout",
     "output_type": "stream",
     "text": [
      "0    1\n",
      "1    1\n",
      "2    1\n",
      "3    2\n",
      "4    1\n",
      "Name: NumberOfBoardings, dtype: int64\n"
     ]
    }
   ],
   "source": [
    "print(data['NumberOfBoardings'].head())"
   ]
  },
  {
   "cell_type": "code",
   "execution_count": 7,
   "id": "7c2cf07a",
   "metadata": {},
   "outputs": [
    {
     "name": "stdout",
     "output_type": "stream",
     "text": [
      "0                  181 Cross Rd\n",
      "1                  177 Cross Rd\n",
      "2                  175 Cross Rd\n",
      "3    Zone A Arndale Interchange\n",
      "4                  178 Cross Rd\n",
      "Name: StopName, dtype: object\n"
     ]
    }
   ],
   "source": [
    "print(data['StopName'].head())"
   ]
  },
  {
   "cell_type": "code",
   "execution_count": 8,
   "id": "5575f045",
   "metadata": {},
   "outputs": [
    {
     "name": "stdout",
     "output_type": "stream",
     "text": [
      "statistical Description:              TripID        StopID  NumberOfBoardings\n",
      "count  1.048575e+06  1.048575e+06       1.048575e+06\n",
      "mean   2.860299e+04  1.330114e+04       4.132290e+00\n",
      "std    1.674656e+04  1.119243e+03       6.291338e+00\n",
      "min    3.017000e+03  1.081700e+04       1.000000e+00\n",
      "25%    1.162200e+04  1.269800e+04       1.000000e+00\n",
      "50%    3.423400e+04  1.333500e+04       2.000000e+00\n",
      "75%    4.512600e+04  1.371600e+04       4.000000e+00\n",
      "max    6.258500e+04  1.849300e+04       1.930000e+02\n"
     ]
    }
   ],
   "source": [
    "print(\"statistical Description:\",data.describe())"
   ]
  },
  {
   "cell_type": "code",
   "execution_count": 9,
   "id": "206e8180",
   "metadata": {},
   "outputs": [
    {
     "name": "stdout",
     "output_type": "stream",
     "text": [
      "shape: (1048575, 6)\n"
     ]
    }
   ],
   "source": [
    "print(\"shape:\",data.shape)"
   ]
  },
  {
   "cell_type": "code",
   "execution_count": 14,
   "id": "df5760b2",
   "metadata": {},
   "outputs": [
    {
     "name": "stdout",
     "output_type": "stream",
     "text": [
      "0          False\n",
      "1          False\n",
      "2          False\n",
      "3          False\n",
      "4          False\n",
      "           ...  \n",
      "1048570    False\n",
      "1048571    False\n",
      "1048572    False\n",
      "1048573    False\n",
      "1048574    False\n",
      "Name: WeekBeginning, Length: 1048575, dtype: bool\n"
     ]
    }
   ],
   "source": [
    "valid = data['WeekBeginning'].between('6/30/2013 0:00', '6/15/2014 0:00')\n",
    "print(valid)"
   ]
  },
  {
   "cell_type": "code",
   "execution_count": 20,
   "id": "c24dbd1d",
   "metadata": {},
   "outputs": [
    {
     "name": "stdout",
     "output_type": "stream",
     "text": [
      "0          True\n",
      "1          True\n",
      "2          True\n",
      "3          True\n",
      "4          True\n",
      "           ... \n",
      "1048570    True\n",
      "1048571    True\n",
      "1048572    True\n",
      "1048573    True\n",
      "1048574    True\n",
      "Name: WeekBeginning, Length: 1048575, dtype: bool\n"
     ]
    }
   ],
   "source": [
    "correct_format = pd.to_datetime(data['WeekBeginning'], errors='coerce').notna()\n",
    "print(correct_format)"
   ]
  },
  {
   "cell_type": "code",
   "execution_count": 23,
   "id": "1c301962",
   "metadata": {},
   "outputs": [
    {
     "name": "stdout",
     "output_type": "stream",
     "text": [
      "0          True\n",
      "1          True\n",
      "2          True\n",
      "3          True\n",
      "4          True\n",
      "           ... \n",
      "1048570    True\n",
      "1048571    True\n",
      "1048572    True\n",
      "1048573    True\n",
      "1048574    True\n",
      "Name: NumberOfBoardings, Length: 1048575, dtype: bool\n"
     ]
    }
   ],
   "source": [
    "positive_values = data['NumberOfBoardings'] > 0\n",
    "print(positive_values)"
   ]
  },
  {
   "cell_type": "code",
   "execution_count": 25,
   "id": "4a55669f",
   "metadata": {},
   "outputs": [
    {
     "name": "stdout",
     "output_type": "stream",
     "text": [
      "0          False\n",
      "1          False\n",
      "2          False\n",
      "3          False\n",
      "4          False\n",
      "           ...  \n",
      "1048570    False\n",
      "1048571    False\n",
      "1048572    False\n",
      "1048573    False\n",
      "1048574    False\n",
      "Name: NumberOfBoardings, Length: 1048575, dtype: bool\n"
     ]
    }
   ],
   "source": [
    "negative_values = data['NumberOfBoardings'] < 0\n",
    "print(negative_values)"
   ]
  },
  {
   "cell_type": "code",
   "execution_count": 26,
   "id": "be4bac55",
   "metadata": {},
   "outputs": [
    {
     "name": "stdout",
     "output_type": "stream",
     "text": [
      "0          True\n",
      "1          True\n",
      "2          True\n",
      "3          True\n",
      "4          True\n",
      "           ... \n",
      "1048570    True\n",
      "1048571    True\n",
      "1048572    True\n",
      "1048573    True\n",
      "1048574    True\n",
      "Name: StopID, Length: 1048575, dtype: bool\n"
     ]
    }
   ],
   "source": [
    "positive_values = data['StopID'] > 0\n",
    "print(positive_values)"
   ]
  },
  {
   "cell_type": "code",
   "execution_count": 27,
   "id": "152b4f17",
   "metadata": {},
   "outputs": [
    {
     "name": "stdout",
     "output_type": "stream",
     "text": [
      "0          False\n",
      "1          False\n",
      "2          False\n",
      "3          False\n",
      "4          False\n",
      "           ...  \n",
      "1048570    False\n",
      "1048571    False\n",
      "1048572    False\n",
      "1048573    False\n",
      "1048574    False\n",
      "Name: TripID, Length: 1048575, dtype: bool\n"
     ]
    }
   ],
   "source": [
    "negative_values = data['TripID'] < 0\n",
    "print(negative_values)"
   ]
  },
  {
   "cell_type": "code",
   "execution_count": 31,
   "id": "4d3b63f4",
   "metadata": {},
   "outputs": [
    {
     "name": "stdout",
     "output_type": "stream",
     "text": [
      "StopName\n",
      "I1 North Tce                     12678\n",
      "23  Findon Rd                    10558\n",
      "21 Port Rd                        9835\n",
      "R1 North Tce                      9221\n",
      "B1 East Tce                       8557\n",
      "                                 ...  \n",
      "V2 King William St                   2\n",
      "I2 North Tce                         1\n",
      "Aust. Submarine Corp Gate 640        1\n",
      "11 East Av                           1\n",
      "L1 Unley Rd                          1\n",
      "Name: count, Length: 583, dtype: int64\n"
     ]
    }
   ],
   "source": [
    "stop_name_column = 'StopName'\n",
    "stop_name_counts = data[stop_name_column].value_counts()\n",
    "print(stop_name_counts)"
   ]
  },
  {
   "cell_type": "code",
   "execution_count": 32,
   "id": "0296f1c6",
   "metadata": {},
   "outputs": [
    {
     "name": "stdout",
     "output_type": "stream",
     "text": [
      "583\n"
     ]
    }
   ],
   "source": [
    "total_unique_stops = len(stop_name_counts)\n",
    "print(total_unique_stops)\n"
   ]
  },
  {
   "cell_type": "code",
   "execution_count": 35,
   "id": "9db7afc3",
   "metadata": {},
   "outputs": [
    {
     "name": "stdout",
     "output_type": "stream",
     "text": [
      "StopName\n",
      "I1 North Tce                      12678\n",
      "23  Findon Rd                     10558\n",
      "21 Port Rd                         9835\n",
      "R1 North Tce                       9221\n",
      "B1 East Tce                        8557\n",
      "W3 Currie St                       8313\n",
      "17  Grange Rd                      8202\n",
      "R2 North Tce                       8096\n",
      "Zone D Port Adelaide Interchan     7908\n",
      "31 Tapleys Hill Rd                 7820\n",
      "W1 North Tce                       7645\n",
      "U1 North Tce                       7557\n",
      "D North Tce                        7495\n",
      "13 Port Rd                         7483\n",
      "G3 Grenfell St                     7104\n",
      "5 Richmond Rd                      7082\n",
      "F1 North Tce                       6959\n",
      "E2 Currie St                       6782\n",
      "2 Kensington Rd                    6762\n",
      "G2 North Tce                       6505\n",
      "Name: count, dtype: int64\n"
     ]
    }
   ],
   "source": [
    "top_n = 20\n",
    "top_stops = stop_name_counts.head(top_n)\n",
    "print(top_stops)"
   ]
  },
  {
   "cell_type": "code",
   "execution_count": 36,
   "id": "3a6af4ce",
   "metadata": {},
   "outputs": [],
   "source": [
    "import matplotlib.pyplot as plt"
   ]
  },
  {
   "cell_type": "code",
   "execution_count": 37,
   "id": "a3b3a793",
   "metadata": {},
   "outputs": [
    {
     "data": {
      "text/plain": [
       "(array([137776.,  42510., 184319., 192849.,  99408.,  65947., 125809.,\n",
       "         74705.,  92963.,  32289.]),\n",
       " array([  0. ,  58.2, 116.4, 174.6, 232.8, 291. , 349.2, 407.4, 465.6,\n",
       "        523.8, 582. ]),\n",
       " <BarContainer object of 10 artists>)"
      ]
     },
     "execution_count": 37,
     "metadata": {},
     "output_type": "execute_result"
    },
    {
     "data": {
      "image/png": "[encoded data removed]",
      "text/plain": [
       "<Figure size 640x480 with 1 Axes>"
      ]
     },
     "metadata": {},
     "output_type": "display_data"
    }
   ],
   "source": [
    "plt.hist((data.StopName))"
   ]
  },
  {
   "cell_type": "code",
   "execution_count": 38,
   "id": "3c21af80",
   "metadata": {},
   "outputs": [
    {
     "data": {
      "text/plain": [
       "(array([1.019144e+06, 2.427600e+04, 3.834000e+03, 8.800000e+02,\n",
       "        2.430000e+02, 1.100000e+02, 5.000000e+01, 2.500000e+01,\n",
       "        1.100000e+01, 2.000000e+00]),\n",
       " array([  1. ,  20.2,  39.4,  58.6,  77.8,  97. , 116.2, 135.4, 154.6,\n",
       "        173.8, 193. ]),\n",
       " <BarContainer object of 10 artists>)"
      ]
     },
     "execution_count": 38,
     "metadata": {},
     "output_type": "execute_result"
    },
    {
     "data": {
      "image/png": "[encoded data removed]",
      "text/plain": [
       "<Figure size 640x480 with 1 Axes>"
      ]
     },
     "metadata": {},
     "output_type": "display_data"
    }
   ],
   "source": [
    "plt.hist((data.NumberOfBoardings))"
   ]
  },
  {
   "cell_type": "code",
   "execution_count": 39,
   "id": "f6e2066f",
   "metadata": {},
   "outputs": [],
   "source": [
    "from sklearn.linear_model import LinearRegression\n",
    "from sklearn.linear_model import Ridge\n",
    "from sklearn.linear_model import Lasso"
   ]
  },
  {
   "cell_type": "code",
   "execution_count": 40,
   "id": "a591630b",
   "metadata": {},
   "outputs": [
    {
     "name": "stdout",
     "output_type": "stream",
     "text": [
      "None\n"
     ]
    }
   ],
   "source": [
    "models=[data]\n",
    "print(models.append(Ridge()))"
   ]
  },
  {
   "cell_type": "code",
   "execution_count": 41,
   "id": "9f1685ea",
   "metadata": {},
   "outputs": [
    {
     "name": "stdout",
     "output_type": "stream",
     "text": [
      "None\n"
     ]
    }
   ],
   "source": [
    "models=[data]\n",
    "print(models.append(Lasso()))"
   ]
  },
  {
   "cell_type": "code",
   "execution_count": 42,
   "id": "0eb2d5c4",
   "metadata": {},
   "outputs": [],
   "source": [
    "from sklearn.neighbors import KNeighborsRegressor\n",
    "from sklearn.svm import SVR"
   ]
  },
  {
   "cell_type": "code",
   "execution_count": 43,
   "id": "d953bf35",
   "metadata": {},
   "outputs": [
    {
     "name": "stdout",
     "output_type": "stream",
     "text": [
      "None\n"
     ]
    }
   ],
   "source": [
    "models=[data]\n",
    "print(models.append(KNeighborsRegressor()))"
   ]
  },
  {
   "cell_type": "code",
   "execution_count": 44,
   "id": "d9039415",
   "metadata": {},
   "outputs": [
    {
     "name": "stdout",
     "output_type": "stream",
     "text": [
      "None\n"
     ]
    }
   ],
   "source": [
    "models=[data]\n",
    "print(models.append(SVR()))"
   ]
  },
  {
   "cell_type": "code",
   "execution_count": 45,
   "id": "d48c0a2d",
   "metadata": {},
   "outputs": [
    {
     "data": {
      "text/plain": [
       "TripID               3299\n",
       "RouteID                36\n",
       "StopID                969\n",
       "StopName              583\n",
       "WeekBeginning          54\n",
       "NumberOfBoardings     156\n",
       "dtype: int64"
      ]
     },
     "execution_count": 45,
     "metadata": {},
     "output_type": "execute_result"
    }
   ],
   "source": [
    "data.nunique()"
   ]
  },
  {
   "cell_type": "code",
   "execution_count": null,
   "id": "13aacf33",
   "metadata": {},
   "outputs": [],
   "source": []
  },
  {
   "cell_type": "code",
   "execution_count": null,
   "id": "93b2dec0",
   "metadata": {},
   "outputs": [],
   "source": []
  },
  {
   "cell_type": "code",
   "execution_count": null,
   "id": "a1f734e6",
   "metadata": {},
   "outputs": [],
   "source": []
  },
  {
   "cell_type": "code",
   "execution_count": null,
   "id": "a3782492",
   "metadata": {},
   "outputs": [],
   "source": []
  }
 ],
 "metadata": {
  "kernelspec": {
   "display_name": "Python 3 (ipykernel)",
   "language": "python",
   "name": "python3"
  },
  "language_info": {
   "codemirror_mode": {
    "name": "ipython",
    "version": 3
   },
   "file_extension": ".py",
   "mimetype": "text/x-python",
   "name": "python",
   "nbconvert_exporter": "python",
   "pygments_lexer": "ipython3",
   "version": "3.11.5"
  }
 },
 "nbformat": 4,
 "nbformat_minor": 5
}
